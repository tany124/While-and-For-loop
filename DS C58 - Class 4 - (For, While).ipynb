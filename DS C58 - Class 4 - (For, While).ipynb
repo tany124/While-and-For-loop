{
 "cells": [
  {
   "cell_type": "code",
   "execution_count": 115,
   "id": "e79af379",
   "metadata": {},
   "outputs": [
    {
     "data": {
      "text/plain": [
       "False"
      ]
     },
     "execution_count": 115,
     "metadata": {},
     "output_type": "execute_result"
    }
   ],
   "source": [
    "list1= [1,2,3,4,5]\n",
    "5 not in list1"
   ]
  },
  {
   "cell_type": "code",
   "execution_count": 2,
   "id": "f2dc4bcd",
   "metadata": {},
   "outputs": [
    {
     "name": "stdout",
     "output_type": "stream",
     "text": [
      "0\n",
      "1\n",
      "2\n",
      "3\n",
      "4\n",
      "5\n",
      "6\n",
      "7\n",
      "8\n",
      "9\n"
     ]
    }
   ],
   "source": [
    "for i in list(range(0,10)):\n",
    "    print(i)"
   ]
  },
  {
   "cell_type": "code",
   "execution_count": 8,
   "id": "2384d597",
   "metadata": {},
   "outputs": [
    {
     "name": "stdout",
     "output_type": "stream",
     "text": [
      "A\n",
      "B\n",
      "C\n",
      "D\n",
      "E\n"
     ]
    }
   ],
   "source": [
    "names = ['A','B','C','D','E']\n",
    "for rahul in names:\n",
    "    print(rahul)"
   ]
  },
  {
   "cell_type": "code",
   "execution_count": 9,
   "id": "05900e72",
   "metadata": {},
   "outputs": [
    {
     "name": "stdout",
     "output_type": "stream",
     "text": [
      "u\n",
      "p\n",
      "g\n",
      "r\n",
      "a\n",
      "d\n"
     ]
    }
   ],
   "source": [
    "s = 'upgrad'\n",
    "for i in s:\n",
    "    print(i)"
   ]
  },
  {
   "cell_type": "code",
   "execution_count": 15,
   "id": "b823cd88",
   "metadata": {},
   "outputs": [],
   "source": [
    "profit = [324,234,544,211,243]\n",
    "sales = [5432,3433,1234,3221,4333,2323,23232,232]"
   ]
  },
  {
   "cell_type": "code",
   "execution_count": 19,
   "id": "3ea9ce18",
   "metadata": {},
   "outputs": [
    {
     "name": "stdout",
     "output_type": "stream",
     "text": [
      "0.05964653902798233\n",
      "0.06816195747159919\n",
      "0.44084278768233387\n",
      "0.06550760633343682\n",
      "0.05608123701823217\n"
     ]
    }
   ],
   "source": [
    "for i in range(0,len(profit)):\n",
    "    print(profit[i]/sales[i])"
   ]
  },
  {
   "cell_type": "code",
   "execution_count": 21,
   "id": "6cd9da43",
   "metadata": {},
   "outputs": [
    {
     "name": "stdout",
     "output_type": "stream",
     "text": [
      "Transaction History\n",
      "Deposit:  50\n",
      "Withdraw:  20\n",
      "Deposit:  100\n",
      "Withdraw:  30\n",
      "Withdraw:  10\n"
     ]
    }
   ],
   "source": [
    "transaction_history = [50,-20,100,-30,-10]\n",
    "print('Transaction History')\n",
    "\n",
    "for i in transaction_history:\n",
    "    if i>0:\n",
    "        print('Deposit: ', i)\n",
    "    else:\n",
    "        print('Withdraw: ', abs(i))"
   ]
  },
  {
   "cell_type": "code",
   "execution_count": 27,
   "id": "0fe1ce49",
   "metadata": {},
   "outputs": [
    {
     "name": "stdout",
     "output_type": "stream",
     "text": [
      "Total Balance:  6000\n"
     ]
    }
   ],
   "source": [
    "account_balance = [1000,2000,-3000,4000,5000,-3000]\n",
    "total_balance = 0 \n",
    "for i in account_balance:\n",
    "    total_balance +=i\n",
    "print('Total Balance: ', total_balance)"
   ]
  },
  {
   "cell_type": "code",
   "execution_count": 28,
   "id": "430070c3",
   "metadata": {},
   "outputs": [
    {
     "name": "stdout",
     "output_type": "stream",
     "text": [
      "Transaction History\n",
      "Deposit:  50\n",
      "Withdraw:  20\n",
      "Deposit:  100\n",
      "Withdraw:  30\n",
      "Withdraw:  10\n",
      "Total Balance:  90\n"
     ]
    }
   ],
   "source": [
    "transaction_history = [50,-20,100,-30,-10]\n",
    "print('Transaction History')\n",
    "total_balance = 0\n",
    "for i in transaction_history:\n",
    "    if i>0:\n",
    "        print('Deposit: ', i)\n",
    "    else:\n",
    "        print('Withdraw: ', abs(i))\n",
    "        \n",
    "for i in transaction_history:\n",
    "    total_balance = total_balance+i\n",
    "print('Total Balance: ', total_balance)"
   ]
  },
  {
   "cell_type": "code",
   "execution_count": 31,
   "id": "c980330b",
   "metadata": {},
   "outputs": [
    {
     "name": "stdout",
     "output_type": "stream",
     "text": [
      "Updated account balance:  [1080.0, 2160.0, 3240.0, 4320.0, 2160.0, 3240.0]\n"
     ]
    }
   ],
   "source": [
    "account_balance = [1000,2000,3000,4000,2000,3000]\n",
    "interest_rate = 0.08\n",
    "\n",
    "for i in range(len(account_balance)):\n",
    "    interest = account_balance[i]*interest_rate\n",
    "    account_balance[i]+=interest\n",
    "print('Updated account balance: ', account_balance)"
   ]
  },
  {
   "cell_type": "code",
   "execution_count": 37,
   "id": "2e1774bd",
   "metadata": {},
   "outputs": [
    {
     "name": "stdout",
     "output_type": "stream",
     "text": [
      "Enter the account to close: 901234\n",
      "Account not found\n",
      "Account not found\n",
      "Account not found\n",
      "closing the account:  901234\n",
      "Remaining accounts:  [123456, 789012, 345678]\n"
     ]
    }
   ],
   "source": [
    "account_numbers = [123456,789012,345678,901234]\n",
    "account_to_close = int(input('Enter the account to close: '))\n",
    "\n",
    "for i in account_numbers:\n",
    "    if i == account_to_close:\n",
    "        print('closing the account: ', i)\n",
    "        account_numbers.remove(i)\n",
    "        break\n",
    "    else:\n",
    "        print('Account not found')\n",
    "        \n",
    "print('Remaining accounts: ', account_numbers)"
   ]
  },
  {
   "cell_type": "code",
   "execution_count": 41,
   "id": "b79cebb0",
   "metadata": {},
   "outputs": [
    {
     "name": "stdout",
     "output_type": "stream",
     "text": [
      "Enter the account to close: 901234\n",
      "closing the account:  901234\n",
      "Account not found\n",
      "Remaining accounts:  [123456, 789012, 345678]\n"
     ]
    }
   ],
   "source": [
    "account_numbers = [123456,789012,345678,901234]\n",
    "account_to_close = int(input('Enter the account to close: '))\n",
    "\n",
    "for i in account_numbers:\n",
    "    if i == account_to_close:\n",
    "        print('closing the account: ', i)\n",
    "        account_numbers.remove(i)\n",
    "        break\n",
    "if account_to_close not in account_numbers:\n",
    "    print('Account not found')\n",
    "        \n",
    "print('Remaining accounts: ', account_numbers)"
   ]
  },
  {
   "cell_type": "code",
   "execution_count": 42,
   "id": "244980e5",
   "metadata": {},
   "outputs": [],
   "source": [
    "account_transactions = [{\"date\":\"2023-07-01\", \"type\":\"Deposit\", \"amount\":100},\n",
    "                        {\"date\":\"2023-07-02\", \"type\":\"Withdraw\", \"amount\":50},\n",
    "                        {\"date\":\"2023-07-03\", \"type\":\"Withdraw\", \"amount\":50},\n",
    "                       {\"date\":\"2023-07-04\", \"type\":\"Deposit\", \"amount\":100}]"
   ]
  },
  {
   "cell_type": "code",
   "execution_count": 47,
   "id": "598c2ed3",
   "metadata": {},
   "outputs": [
    {
     "name": "stdout",
     "output_type": "stream",
     "text": [
      "2023-07-01 - Deposit - 100\n",
      "2023-07-02 - Withdraw - 50\n",
      "2023-07-03 - Withdraw - 50\n",
      "2023-07-04 - Deposit - 100\n"
     ]
    }
   ],
   "source": [
    "for i in account_transactions:\n",
    "    print(i['date'], \"-\", i['type'], \"-\", i['amount'])"
   ]
  },
  {
   "cell_type": "code",
   "execution_count": 50,
   "id": "bc383b19",
   "metadata": {},
   "outputs": [
    {
     "name": "stdout",
     "output_type": "stream",
     "text": [
      "2023-07-01 - Deposit - 100\n",
      "2023-07-02 - Withdraw - 50\n",
      "2023-07-03 - Deposit - 50\n",
      "2023-07-04 - Withdraw - 100\n"
     ]
    }
   ],
   "source": [
    "transcation_date = ['2023-07-01','2023-07-02','2023-07-03','2023-07-04']\n",
    "transaction_type = ['Deposit','Withdraw','Deposit','Withdraw']\n",
    "transaction_amount = [100,50,50,100]\n",
    "\n",
    "for (td,tt,ta) in zip(transcation_date,transaction_type,transaction_amount):\n",
    "    print(td,'-',tt,'-',ta)"
   ]
  },
  {
   "cell_type": "code",
   "execution_count": 53,
   "id": "2a0f0db1",
   "metadata": {},
   "outputs": [
    {
     "name": "stdout",
     "output_type": "stream",
     "text": [
      "['2023-07-01', '2023-07-02', '2023-07-03', '2023-07-04']\n",
      "['Deposit', 'Withdraw', 'Deposit', 'Withdraw']\n",
      "[100, 50, 50, 100]\n"
     ]
    }
   ],
   "source": [
    "print(transcation_date)\n",
    "print(transaction_type)\n",
    "print(transaction_amount)"
   ]
  },
  {
   "cell_type": "markdown",
   "id": "2f88f1dc",
   "metadata": {},
   "source": [
    "**While Loop**"
   ]
  },
  {
   "cell_type": "code",
   "execution_count": 55,
   "id": "71183b42",
   "metadata": {},
   "outputs": [],
   "source": [
    "#while 1==1:\n",
    "#    print('hi')"
   ]
  },
  {
   "cell_type": "code",
   "execution_count": 56,
   "id": "3f6f3685",
   "metadata": {},
   "outputs": [],
   "source": [
    "while 1==2:\n",
    "    print('hi')"
   ]
  },
  {
   "cell_type": "code",
   "execution_count": 58,
   "id": "c243cbba",
   "metadata": {},
   "outputs": [
    {
     "name": "stdout",
     "output_type": "stream",
     "text": [
      "Total coupouns left are:  5\n",
      "Total coupouns left are:  4\n",
      "Total coupouns left are:  3\n",
      "Total coupouns left are:  2\n",
      "Total coupouns left are:  1\n",
      "No coupouns left\n"
     ]
    }
   ],
   "source": [
    "counpouns = 5\n",
    "utilized = 0\n",
    "while utilized<counpouns:\n",
    "    print('Total coupouns left are: ', counpouns-utilized)\n",
    "    utilized=utilized+1\n",
    "print('No coupouns left')"
   ]
  },
  {
   "cell_type": "code",
   "execution_count": null,
   "id": "98f7d47a",
   "metadata": {},
   "outputs": [],
   "source": [
    "5! = 5*4*3*2*1 = 120"
   ]
  },
  {
   "cell_type": "code",
   "execution_count": 63,
   "id": "82e96a41",
   "metadata": {},
   "outputs": [
    {
     "name": "stdout",
     "output_type": "stream",
     "text": [
      "Enter the number: -5\n",
      "There is no factorial of the negative number\n"
     ]
    }
   ],
   "source": [
    "number = int(input(\"Enter the number: \"))\n",
    "if number<0:\n",
    "    print('There is no factorial of the negative number')\n",
    "else:\n",
    "    result = 1\n",
    "    while number>0:\n",
    "        result = result*number\n",
    "        number= number-1\n",
    "    print(result)"
   ]
  },
  {
   "cell_type": "code",
   "execution_count": 65,
   "id": "a1df8ff7",
   "metadata": {},
   "outputs": [
    {
     "name": "stdout",
     "output_type": "stream",
     "text": [
      "Enter the pin: 111\n",
      "Incorrect pin, attempts remaining:  2\n",
      "Enter the pin: 1234\n",
      "Pin accepted, access granted\n"
     ]
    }
   ],
   "source": [
    "correct_pin = 1234\n",
    "max_attempts = 3\n",
    "attempts = 0 \n",
    "\n",
    "while attempts<max_attempts:\n",
    "    pin = int(input('Enter the pin: '))\n",
    "    if pin == correct_pin:\n",
    "        print('Pin accepted, access granted')\n",
    "        break\n",
    "        \n",
    "    else:\n",
    "        attempts=attempts+1\n",
    "        print('Incorrect pin, attempts remaining: ', max_attempts-attempts)\n",
    "        \n",
    "if attempts==max_attempts:\n",
    "    print(\"Your account is blocked\")"
   ]
  },
  {
   "cell_type": "code",
   "execution_count": 110,
   "id": "f3341f3b",
   "metadata": {},
   "outputs": [
    {
     "name": "stdout",
     "output_type": "stream",
     "text": [
      "Account created successfully:  7\n"
     ]
    }
   ],
   "source": [
    "import random\n",
    "existing_account_number = [1,3,6,9]\n",
    "new_account_number = random.randint(1,9)\n",
    "\n",
    "while new_account_number in existing_account_number:\n",
    "    new_account_number = random.randint(1,9)\n",
    "    \n",
    "print(\"Account created successfully: \", new_account_number)"
   ]
  },
  {
   "cell_type": "code",
   "execution_count": 102,
   "id": "e09de1ef",
   "metadata": {},
   "outputs": [
    {
     "data": {
      "text/plain": [
       "6"
      ]
     },
     "execution_count": 102,
     "metadata": {},
     "output_type": "execute_result"
    }
   ],
   "source": [
    "random.randint(1,9)"
   ]
  },
  {
   "cell_type": "code",
   "execution_count": 114,
   "id": "19268281",
   "metadata": {},
   "outputs": [
    {
     "name": "stdout",
     "output_type": "stream",
     "text": [
      "The total amount after 1 year would be:  6942197.427120268\n"
     ]
    }
   ],
   "source": [
    "investing = 200000\n",
    "interest_rate = 0.03\n",
    "months = 120\n",
    "inital = 1\n",
    "\n",
    "while inital<=months:\n",
    "    interest = investing*interest_rate\n",
    "    investing+=interest\n",
    "    inital+=1\n",
    "    \n",
    "print(\"The total amount after 1 year would be: \", investing)"
   ]
  }
 ],
 "metadata": {
  "kernelspec": {
   "display_name": "Python 3 (ipykernel)",
   "language": "python",
   "name": "python3"
  },
  "language_info": {
   "codemirror_mode": {
    "name": "ipython",
    "version": 3
   },
   "file_extension": ".py",
   "mimetype": "text/x-python",
   "name": "python",
   "nbconvert_exporter": "python",
   "pygments_lexer": "ipython3",
   "version": "3.9.13"
  }
 },
 "nbformat": 4,
 "nbformat_minor": 5
}
